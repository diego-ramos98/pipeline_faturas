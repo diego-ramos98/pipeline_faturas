{
 "cells": [
  {
   "cell_type": "markdown",
   "id": "f36701cf",
   "metadata": {},
   "source": [
    "**IMPORTANDO PyPDF2**"
   ]
  },
  {
   "cell_type": "code",
   "execution_count": 1,
   "id": "18669164",
   "metadata": {},
   "outputs": [],
   "source": [
    "import PyPDF2\n",
    "import tabula\n",
    "import re"
   ]
  },
  {
   "cell_type": "code",
   "execution_count": 2,
   "id": "ca9af72b",
   "metadata": {},
   "outputs": [],
   "source": [
    "path_pdf = '../data_raw/pdf/fatura.pdf'\n",
    "pdf_file = open(path_pdf,'rb')"
   ]
  },
  {
   "cell_type": "markdown",
   "id": "3b982472",
   "metadata": {},
   "source": [
    "Fazendo a leitura do pdf\n"
   ]
  },
  {
   "cell_type": "code",
   "execution_count": 4,
   "id": "a4237c1c",
   "metadata": {},
   "outputs": [],
   "source": [
    "pdf = PyPDF2.PdfReader(pdf_file)"
   ]
  },
  {
   "cell_type": "markdown",
   "id": "ba22fb84",
   "metadata": {},
   "source": [
    "Número total de páginas"
   ]
  },
  {
   "cell_type": "code",
   "execution_count": 6,
   "id": "3e8cd082",
   "metadata": {},
   "outputs": [
    {
     "data": {
      "text/plain": [
       "5"
      ]
     },
     "execution_count": 6,
     "metadata": {},
     "output_type": "execute_result"
    }
   ],
   "source": [
    "paginas = len(pdf.pages)\n",
    "paginas"
   ]
  },
  {
   "cell_type": "markdown",
   "id": "e5c06f15",
   "metadata": {},
   "source": [
    "LER A PRIMEIRA PÁGINA COMPLETA"
   ]
  },
  {
   "cell_type": "code",
   "execution_count": 8,
   "id": "244b6f2b",
   "metadata": {},
   "outputs": [
    {
     "data": {
      "text/plain": [
       "'DIEGO RAMOS DA SILVA FORTUNATO\\nFATURA 02 MAI 2025 EMISSÃO E ENVIO 24 ABR 2025\\nTRANSAÇÕES DE 25 MAR A 24 ABR\\nDiego R S Fortunato R$ 348,02\\n25 MAR\\n •••• 2531 Fila Br Dq Caxias - Parcela 4/5 R$ 73,99\\n25 MAR\\n •••• 2531 Ebn *Sonyplaystatn - Parcela 3/4 R$ 35,08\\n04 ABR\\n •••• 2531 Cosmofarma R$ 30,00\\n06 ABR\\n •••• 2531 Drogasmil R$ 12,14\\n09 ABR\\n •••• 2531 Merc Flor de Mesquita R$ 25,18\\n10 ABR\\n •••• 2531 Google Ellation R$ 19,99\\n11 ABR\\n •••• 2531 Google Paramount Plus R$ 18,90\\n15 ABR\\n •••• 2531 M T Ferreira da Silva R$ 35,13\\n18 ABR\\n •••• 2531 Mp *Silvio R$ 20,00\\n18 ABR\\n •••• 2531 Google Youtube R$ 7,99\\n20 ABR\\n •••• 2531 Posto O Bem Amado Igua R$ 30,00\\n20 ABR\\n •••• 2531 Posto O Bem Amado Igua R$ 20,00\\n21 ABR\\n •••• 2531 Delicias de Mana R$ 3,00\\n23 ABR\\n •••• 2531 Nova Bj Comercio de Ho R$ 16,62\\nPagamentos e Financiamentos -R$ 324,42\\n01 ABR Pagamento em 01 ABR −R$ 467,73\\n01 ABR Saldo restante da fatura anterior R$ 0,00\\n01 ABR Saldo restante da fatura anterior R$ 0,00\\n02 ABR\\n Tim\\nTotal a pagar: R$ 95,82 (valor da transação de R$ 76,99 + R$ 0,76 de IOF +\\nR$ 18,08 de juros).R$ 95,83\\n02 ABR\\n RDB RIO COMERCIO DE REVISTAS E JORNAIS LTDA\\nTotal a pagar: R$ 15,83 (valor da transação de R$ 12,50 + R$ 0,14 de IOF + R$\\n3,19 de juros).R$ 15,83\\n17 ABR Limite convertido em saldo na sua conta do Nubank\\nTotal a pagar: R$ 31,64 (valor da transação de R$ 30,00 + R$ 0,14 de IOF +\\nR$ 1,50 de juros).R$ 31,64\\nComo assegurado pela Resolução CMN n° 5.112 de 21/12/2023, o valor total cobrado a título de juros e encargos financeiros aplicados aos\\nfinanciamentos de saldo devedor da fatura (rotativo, parcelamentos de fatura e renegociações de pendências) não deve exceder o valor original\\nda dívida. Válido apenas para as operações realizadas a partir de 3 de Janeiro de 2024.\\n5 de 5'"
      ]
     },
     "execution_count": 8,
     "metadata": {},
     "output_type": "execute_result"
    }
   ],
   "source": [
    "pagina1 = pdf.pages[4]\n",
    "\n",
    "pagina1.extract_text()"
   ]
  },
  {
   "cell_type": "markdown",
   "id": "99b1fbfa",
   "metadata": {},
   "source": [
    "Faz a junção das linhas "
   ]
  },
  {
   "cell_type": "code",
   "execution_count": 9,
   "id": "ddca5417",
   "metadata": {},
   "outputs": [],
   "source": [
    "texto_formatado = ''.join(pagina1.extract_text())"
   ]
  },
  {
   "cell_type": "code",
   "execution_count": 10,
   "id": "93656894",
   "metadata": {},
   "outputs": [
    {
     "name": "stdout",
     "output_type": "stream",
     "text": [
      "DIEGO RAMOS DA SILVA FORTUNATO\n",
      "FATURA 02 MAI 2025 EMISSÃO E ENVIO 24 ABR 2025\n",
      "TRANSAÇÕES DE 25 MAR A 24 ABR\n",
      "Diego R S Fortunato R$ 348,02\n",
      "25 MAR\n",
      " •••• 2531 Fila Br Dq Caxias - Parcela 4/5 R$ 73,99\n",
      "25 MAR\n",
      " •••• 2531 Ebn *Sonyplaystatn - Parcela 3/4 R$ 35,08\n",
      "04 ABR\n",
      " •••• 2531 Cosmofarma R$ 30,00\n",
      "06 ABR\n",
      " •••• 2531 Drogasmil R$ 12,14\n",
      "09 ABR\n",
      " •••• 2531 Merc Flor de Mesquita R$ 25,18\n",
      "10 ABR\n",
      " •••• 2531 Google Ellation R$ 19,99\n",
      "11 ABR\n",
      " •••• 2531 Google Paramount Plus R$ 18,90\n",
      "15 ABR\n",
      " •••• 2531 M T Ferreira da Silva R$ 35,13\n",
      "18 ABR\n",
      " •••• 2531 Mp *Silvio R$ 20,00\n",
      "18 ABR\n",
      " •••• 2531 Google Youtube R$ 7,99\n",
      "20 ABR\n",
      " •••• 2531 Posto O Bem Amado Igua R$ 30,00\n",
      "20 ABR\n",
      " •••• 2531 Posto O Bem Amado Igua R$ 20,00\n",
      "21 ABR\n",
      " •••• 2531 Delicias de Mana R$ 3,00\n",
      "23 ABR\n",
      " •••• 2531 Nova Bj Comercio de Ho R$ 16,62\n",
      "Pagamentos e Financiamentos -R$ 324,42\n",
      "01 ABR Pagamento em 01 ABR −R$ 467,73\n",
      "01 ABR Saldo restante da fatura anterior R$ 0,00\n",
      "01 ABR Saldo restante da fatura anterior R$ 0,00\n",
      "02 ABR\n",
      " Tim\n",
      "Total a pagar: R$ 95,82 (valor da transação de R$ 76,99 + R$ 0,76 de IOF +\n",
      "R$ 18,08 de juros).R$ 95,83\n",
      "02 ABR\n",
      " RDB RIO COMERCIO DE REVISTAS E JORNAIS LTDA\n",
      "Total a pagar: R$ 15,83 (valor da transação de R$ 12,50 + R$ 0,14 de IOF + R$\n",
      "3,19 de juros).R$ 15,83\n",
      "17 ABR Limite convertido em saldo na sua conta do Nubank\n",
      "Total a pagar: R$ 31,64 (valor da transação de R$ 30,00 + R$ 0,14 de IOF +\n",
      "R$ 1,50 de juros).R$ 31,64\n",
      "Como assegurado pela Resolução CMN n° 5.112 de 21/12/2023, o valor total cobrado a título de juros e encargos financeiros aplicados aos\n",
      "financiamentos de saldo devedor da fatura (rotativo, parcelamentos de fatura e renegociações de pendências) não deve exceder o valor original\n",
      "da dívida. Válido apenas para as operações realizadas a partir de 3 de Janeiro de 2024.\n",
      "5 de 5\n"
     ]
    }
   ],
   "source": [
    "print(texto_formatado)"
   ]
  },
  {
   "cell_type": "code",
   "execution_count": null,
   "id": "a5ffc06b",
   "metadata": {},
   "outputs": [],
   "source": []
  }
 ],
 "metadata": {
  "kernelspec": {
   "display_name": "venv",
   "language": "python",
   "name": "python3"
  },
  "language_info": {
   "codemirror_mode": {
    "name": "ipython",
    "version": 3
   },
   "file_extension": ".py",
   "mimetype": "text/x-python",
   "name": "python",
   "nbconvert_exporter": "python",
   "pygments_lexer": "ipython3",
   "version": "3.9.21"
  }
 },
 "nbformat": 4,
 "nbformat_minor": 5
}
