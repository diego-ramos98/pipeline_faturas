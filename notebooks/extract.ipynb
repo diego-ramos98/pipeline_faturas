{
 "cells": [
  {
   "cell_type": "markdown",
   "id": "9fe78e00",
   "metadata": {},
   "source": [
    "***CONECTANDO AO EMAIL***"
   ]
  },
  {
   "cell_type": "code",
   "execution_count": 1,
   "id": "022a66fb",
   "metadata": {},
   "outputs": [],
   "source": [
    "from imap_tools import  MailBox, AND\n",
    "from datetime import date\n",
    "import os\n",
    "import  dotenv"
   ]
  },
  {
   "cell_type": "markdown",
   "id": "cb2f40f3",
   "metadata": {},
   "source": [
    "***INFORMAÇÕES DE LOGIN***"
   ]
  },
  {
   "cell_type": "code",
   "execution_count": 2,
   "id": "345a3264",
   "metadata": {},
   "outputs": [
    {
     "data": {
      "text/plain": [
       "True"
      ]
     },
     "execution_count": 2,
     "metadata": {},
     "output_type": "execute_result"
    }
   ],
   "source": [
    "dotenv.load_dotenv() #PARA PEGAR AS VARIAVEIS DE ambiente "
   ]
  },
  {
   "cell_type": "markdown",
   "id": "463cd221",
   "metadata": {},
   "source": [
    "***CHAVES DE ACESSO***"
   ]
  },
  {
   "cell_type": "code",
   "execution_count": 7,
   "id": "d83fbd70",
   "metadata": {},
   "outputs": [],
   "source": [
    "chave = os.getenv('CHAVE')\n",
    "usuario = os.getenv('USUARIO')"
   ]
  },
  {
   "cell_type": "code",
   "execution_count": 1,
   "id": "17b4d035",
   "metadata": {},
   "outputs": [
    {
     "ename": "NameError",
     "evalue": "name 'MailBox' is not defined",
     "output_type": "error",
     "traceback": [
      "\u001b[0;31m---------------------------------------------------------------------------\u001b[0m",
      "\u001b[0;31mNameError\u001b[0m                                 Traceback (most recent call last)",
      "Cell \u001b[0;32mIn[1], line 1\u001b[0m\n\u001b[0;32m----> 1\u001b[0m meu_email \u001b[38;5;241m=\u001b[39m \u001b[43mMailBox\u001b[49m(\u001b[38;5;124m\"\u001b[39m\u001b[38;5;124mimap.gmail.com\u001b[39m\u001b[38;5;124m\"\u001b[39m)\u001b[38;5;241m.\u001b[39mlogin(usuario,chave)\n",
      "\u001b[0;31mNameError\u001b[0m: name 'MailBox' is not defined"
     ]
    }
   ],
   "source": [
    "meu_email = MailBox(\"imap.gmail.com\").login(usuario,chave)"
   ]
  },
  {
   "cell_type": "code",
   "execution_count": null,
   "id": "e3d813f5",
   "metadata": {},
   "outputs": [],
   "source": []
  },
  {
   "cell_type": "markdown",
   "id": "0af5f5bf",
   "metadata": {},
   "source": [
    "***PEGANDO INFORMAÇÕES DO EMAIL***\n",
    "\n",
    "**PEGANDO INFORMAÇOES DO EMAIL DE UM REMETENTE "
   ]
  },
  {
   "cell_type": "markdown",
   "id": "9e113d1f",
   "metadata": {},
   "source": [
    "***FORMATANDO AS DATAS***"
   ]
  },
  {
   "cell_type": "code",
   "execution_count": null,
   "id": "b880458b",
   "metadata": {},
   "outputs": [
    {
     "name": "stdout",
     "output_type": "stream",
     "text": [
      "2025 5\n"
     ]
    }
   ],
   "source": [
    "ano_vigente = date.today().year\n",
    "mes_vigente = date.today().month"
   ]
  },
  {
   "cell_type": "code",
   "execution_count": 58,
   "id": "eeb7a55d",
   "metadata": {},
   "outputs": [],
   "source": [
    "data = date(2025,4,1)\n"
   ]
  },
  {
   "cell_type": "code",
   "execution_count": 78,
   "id": "e8e242ca",
   "metadata": {},
   "outputs": [],
   "source": [
    "lista_emails = meu_email.fetch(AND(from_=\"todomundo@nubank.com.br\",date_gte=data,body=\"Sua fatura foi fechada\"),charset=\"UTF-8\")"
   ]
  },
  {
   "cell_type": "code",
   "execution_count": 75,
   "id": "6c1b5684",
   "metadata": {},
   "outputs": [
    {
     "name": "stdout",
     "output_type": "stream",
     "text": [
      "1\n"
     ]
    }
   ],
   "source": [
    "quantidade_emails_encontrados =  len(list(lista_emails))\n",
    "print(quantidade_emails_encontrados)"
   ]
  },
  {
   "cell_type": "code",
   "execution_count": 79,
   "id": "dfd4b956",
   "metadata": {},
   "outputs": [
    {
     "name": "stdout",
     "output_type": "stream",
     "text": [
      "A fatura do seu cartão Nubank está fechada\n",
      "\n"
     ]
    }
   ],
   "source": [
    "for email in lista_emails:\n",
    "    print(email.subject)\n",
    "    print(email.text)\n",
    "    "
   ]
  },
  {
   "cell_type": "markdown",
   "id": "1f4338d6",
   "metadata": {},
   "source": [
    "***LENDO O ANEXO DO EMAIL***"
   ]
  },
  {
   "cell_type": "code",
   "execution_count": null,
   "id": "39609dd1",
   "metadata": {},
   "outputs": [],
   "source": [
    "path = \"../data_raw/\"\n",
    "name_file = \"fatura.pdf\""
   ]
  },
  {
   "cell_type": "code",
   "execution_count": 81,
   "id": "66f90a7a",
   "metadata": {},
   "outputs": [],
   "source": [
    "path_full = os.path.join(path,name_file)"
   ]
  },
  {
   "cell_type": "code",
   "execution_count": 9,
   "id": "a8ff5af4",
   "metadata": {},
   "outputs": [
    {
     "ename": "NameError",
     "evalue": "name 'meu_email' is not defined",
     "output_type": "error",
     "traceback": [
      "\u001b[0;31m---------------------------------------------------------------------------\u001b[0m",
      "\u001b[0;31mNameError\u001b[0m                                 Traceback (most recent call last)",
      "Cell \u001b[0;32mIn[9], line 1\u001b[0m\n\u001b[0;32m----> 1\u001b[0m lista_emails \u001b[38;5;241m=\u001b[39m \u001b[43mmeu_email\u001b[49m\u001b[38;5;241m.\u001b[39mfetch(AND(from_\u001b[38;5;241m=\u001b[39m\u001b[38;5;124m\"\u001b[39m\u001b[38;5;124mtodomundo@nubank.com.br\u001b[39m\u001b[38;5;124m\"\u001b[39m,date_gte\u001b[38;5;241m=\u001b[39mdata,body\u001b[38;5;241m=\u001b[39m\u001b[38;5;124m\"\u001b[39m\u001b[38;5;124mSua fatura foi fechada\u001b[39m\u001b[38;5;124m\"\u001b[39m),charset\u001b[38;5;241m=\u001b[39m\u001b[38;5;124m\"\u001b[39m\u001b[38;5;124mUTF-8\u001b[39m\u001b[38;5;124m\"\u001b[39m)\n\u001b[1;32m      2\u001b[0m \u001b[38;5;28;01mfor\u001b[39;00m email \u001b[38;5;129;01min\u001b[39;00m lista_emails:\n\u001b[1;32m      3\u001b[0m     \u001b[38;5;28;01mif\u001b[39;00m \u001b[38;5;28mlen\u001b[39m(email\u001b[38;5;241m.\u001b[39mattachments) \u001b[38;5;241m>\u001b[39m \u001b[38;5;241m0\u001b[39m:\n",
      "\u001b[0;31mNameError\u001b[0m: name 'meu_email' is not defined"
     ]
    }
   ],
   "source": [
    "lista_emails = meu_email.fetch(AND(from_=\"todomundo@nubank.com.br\",date_gte=data,body=\"Sua fatura foi fechada\"),charset=\"UTF-8\")\n",
    "for email in lista_emails:\n",
    "    if len(email.attachments) > 0:\n",
    "        for anexo in email.attachments:\n",
    "            if \"Nubank_2025-05-01\" in anexo.filename:\n",
    "                info_anexo = anexo.payload\n",
    "                with open(path_full,\"wb\") as fatura_pdf:\n",
    "                    fatura_pdf.write(info_anexo)\n"
   ]
  },
  {
   "cell_type": "code",
   "execution_count": null,
   "id": "38cbbad4",
   "metadata": {},
   "outputs": [],
   "source": []
  },
  {
   "cell_type": "markdown",
   "id": "1572b77f",
   "metadata": {},
   "source": [
    "Extraindo informação do pdf\n"
   ]
  },
  {
   "cell_type": "code",
   "execution_count": null,
   "id": "0fbf824b",
   "metadata": {},
   "outputs": [],
   "source": [
    "import tabula\n"
   ]
  },
  {
   "cell_type": "code",
   "execution_count": 65,
   "id": "f4a250ef",
   "metadata": {},
   "outputs": [],
   "source": [
    "path_pdf_itau = '../data_raw/pdf/fatura_Itau_05-2025.pdf'\n",
    "path_pdf_nubank = '../data_raw/pdf/fatura_Nubank_05-2025.pdf'"
   ]
  },
  {
   "cell_type": "code",
   "execution_count": 127,
   "id": "096660a7",
   "metadata": {},
   "outputs": [],
   "source": [
    "tabula.convert_into(path_pdf_nubank,'../data_raw/csv/fatura_Nubank_05-2025.csv',output_format='csv',pages='5')"
   ]
  },
  {
   "cell_type": "code",
   "execution_count": null,
   "id": "b14fbc8d",
   "metadata": {},
   "outputs": [],
   "source": []
  },
  {
   "cell_type": "code",
   "execution_count": null,
   "id": "cdb7b78b",
   "metadata": {},
   "outputs": [],
   "source": []
  },
  {
   "cell_type": "code",
   "execution_count": null,
   "id": "8c9b0215",
   "metadata": {},
   "outputs": [
    {
     "data": {
      "text/plain": [
       "<PasswordType.OWNER_PASSWORD: 2>"
      ]
     },
     "execution_count": 109,
     "metadata": {},
     "output_type": "execute_result"
    }
   ],
   "source": []
  },
  {
   "cell_type": "code",
   "execution_count": null,
   "id": "e5910d5b",
   "metadata": {},
   "outputs": [],
   "source": []
  },
  {
   "cell_type": "code",
   "execution_count": null,
   "id": "69e4945a",
   "metadata": {},
   "outputs": [
    {
     "ename": "IndexError",
     "evalue": "list index out of range",
     "output_type": "error",
     "traceback": [
      "\u001b[0;31m---------------------------------------------------------------------------\u001b[0m",
      "\u001b[0;31mIndexError\u001b[0m                                Traceback (most recent call last)",
      "Cell \u001b[0;32mIn[118], line 1\u001b[0m\n\u001b[0;32m----> 1\u001b[0m \u001b[43mpagina\u001b[49m\u001b[38;5;241;43m.\u001b[39;49m\u001b[43mextract_text\u001b[49m\u001b[43m(\u001b[49m\u001b[43m)\u001b[49m\n",
      "File \u001b[0;32m~/Documentos/pipeline_faturas/venv/lib/python3.9/site-packages/PyPDF2/_page.py:1851\u001b[0m, in \u001b[0;36mPageObject.extract_text\u001b[0;34m(self, Tj_sep, TJ_sep, orientations, space_width, visitor_operand_before, visitor_operand_after, visitor_text, *args)\u001b[0m\n\u001b[1;32m   1848\u001b[0m \u001b[38;5;28;01mif\u001b[39;00m \u001b[38;5;28misinstance\u001b[39m(orientations, \u001b[38;5;28mint\u001b[39m):\n\u001b[1;32m   1849\u001b[0m     orientations \u001b[38;5;241m=\u001b[39m (orientations,)\n\u001b[0;32m-> 1851\u001b[0m \u001b[38;5;28;01mreturn\u001b[39;00m \u001b[38;5;28;43mself\u001b[39;49m\u001b[38;5;241;43m.\u001b[39;49m\u001b[43m_extract_text\u001b[49m\u001b[43m(\u001b[49m\n\u001b[1;32m   1852\u001b[0m \u001b[43m    \u001b[49m\u001b[38;5;28;43mself\u001b[39;49m\u001b[43m,\u001b[49m\n\u001b[1;32m   1853\u001b[0m \u001b[43m    \u001b[49m\u001b[38;5;28;43mself\u001b[39;49m\u001b[38;5;241;43m.\u001b[39;49m\u001b[43mpdf\u001b[49m\u001b[43m,\u001b[49m\n\u001b[1;32m   1854\u001b[0m \u001b[43m    \u001b[49m\u001b[43morientations\u001b[49m\u001b[43m,\u001b[49m\n\u001b[1;32m   1855\u001b[0m \u001b[43m    \u001b[49m\u001b[43mspace_width\u001b[49m\u001b[43m,\u001b[49m\n\u001b[1;32m   1856\u001b[0m \u001b[43m    \u001b[49m\u001b[43mPG\u001b[49m\u001b[38;5;241;43m.\u001b[39;49m\u001b[43mCONTENTS\u001b[49m\u001b[43m,\u001b[49m\n\u001b[1;32m   1857\u001b[0m \u001b[43m    \u001b[49m\u001b[43mvisitor_operand_before\u001b[49m\u001b[43m,\u001b[49m\n\u001b[1;32m   1858\u001b[0m \u001b[43m    \u001b[49m\u001b[43mvisitor_operand_after\u001b[49m\u001b[43m,\u001b[49m\n\u001b[1;32m   1859\u001b[0m \u001b[43m    \u001b[49m\u001b[43mvisitor_text\u001b[49m\u001b[43m,\u001b[49m\n\u001b[1;32m   1860\u001b[0m \u001b[43m\u001b[49m\u001b[43m)\u001b[49m\n",
      "File \u001b[0;32m~/Documentos/pipeline_faturas/venv/lib/python3.9/site-packages/PyPDF2/_page.py:1342\u001b[0m, in \u001b[0;36mPageObject._extract_text\u001b[0;34m(self, obj, pdf, orientations, space_width, content_key, visitor_operand_before, visitor_operand_after, visitor_text)\u001b[0m\n\u001b[1;32m   1340\u001b[0m \u001b[38;5;28;01mif\u001b[39;00m \u001b[38;5;124m\"\u001b[39m\u001b[38;5;124m/Font\u001b[39m\u001b[38;5;124m\"\u001b[39m \u001b[38;5;129;01min\u001b[39;00m resources_dict:\n\u001b[1;32m   1341\u001b[0m     \u001b[38;5;28;01mfor\u001b[39;00m f \u001b[38;5;129;01min\u001b[39;00m cast(DictionaryObject, resources_dict[\u001b[38;5;124m\"\u001b[39m\u001b[38;5;124m/Font\u001b[39m\u001b[38;5;124m\"\u001b[39m]):\n\u001b[0;32m-> 1342\u001b[0m         cmaps[f] \u001b[38;5;241m=\u001b[39m \u001b[43mbuild_char_map\u001b[49m\u001b[43m(\u001b[49m\u001b[43mf\u001b[49m\u001b[43m,\u001b[49m\u001b[43m \u001b[49m\u001b[43mspace_width\u001b[49m\u001b[43m,\u001b[49m\u001b[43m \u001b[49m\u001b[43mobj\u001b[49m\u001b[43m)\u001b[49m\n\u001b[1;32m   1343\u001b[0m cmap: Tuple[\n\u001b[1;32m   1344\u001b[0m     Union[\u001b[38;5;28mstr\u001b[39m, Dict[\u001b[38;5;28mint\u001b[39m, \u001b[38;5;28mstr\u001b[39m]], Dict[\u001b[38;5;28mstr\u001b[39m, \u001b[38;5;28mstr\u001b[39m], \u001b[38;5;28mstr\u001b[39m, Optional[DictionaryObject]\n\u001b[1;32m   1345\u001b[0m ] \u001b[38;5;241m=\u001b[39m (\n\u001b[0;32m   (...)\u001b[0m\n\u001b[1;32m   1349\u001b[0m     \u001b[38;5;28;01mNone\u001b[39;00m,\n\u001b[1;32m   1350\u001b[0m )  \u001b[38;5;66;03m# (encoding,CMAP,font resource name,dictionary-object of font)\u001b[39;00m\n\u001b[1;32m   1351\u001b[0m \u001b[38;5;28;01mtry\u001b[39;00m:\n",
      "File \u001b[0;32m~/Documentos/pipeline_faturas/venv/lib/python3.9/site-packages/PyPDF2/_cmap.py:28\u001b[0m, in \u001b[0;36mbuild_char_map\u001b[0;34m(font_name, space_width, obj)\u001b[0m\n\u001b[1;32m     26\u001b[0m space_code \u001b[38;5;241m=\u001b[39m \u001b[38;5;241m32\u001b[39m\n\u001b[1;32m     27\u001b[0m encoding, space_code \u001b[38;5;241m=\u001b[39m parse_encoding(ft, space_code)\n\u001b[0;32m---> 28\u001b[0m map_dict, space_code, int_entry \u001b[38;5;241m=\u001b[39m \u001b[43mparse_to_unicode\u001b[49m\u001b[43m(\u001b[49m\u001b[43mft\u001b[49m\u001b[43m,\u001b[49m\u001b[43m \u001b[49m\u001b[43mspace_code\u001b[49m\u001b[43m)\u001b[49m\n\u001b[1;32m     30\u001b[0m \u001b[38;5;66;03m# encoding can be either a string for decode (on 1,2 or a variable number of bytes) of a char table (for 1 byte only for me)\u001b[39;00m\n\u001b[1;32m     31\u001b[0m \u001b[38;5;66;03m# if empty string, it means it is than encoding field is not present and we have to select the good encoding from cmap input data\u001b[39;00m\n\u001b[1;32m     32\u001b[0m \u001b[38;5;28;01mif\u001b[39;00m encoding \u001b[38;5;241m==\u001b[39m \u001b[38;5;124m\"\u001b[39m\u001b[38;5;124m\"\u001b[39m:\n",
      "File \u001b[0;32m~/Documentos/pipeline_faturas/venv/lib/python3.9/site-packages/PyPDF2/_cmap.py:196\u001b[0m, in \u001b[0;36mparse_to_unicode\u001b[0;34m(ft, space_code)\u001b[0m\n\u001b[1;32m    194\u001b[0m cm \u001b[38;5;241m=\u001b[39m prepare_cm(ft)\n\u001b[1;32m    195\u001b[0m \u001b[38;5;28;01mfor\u001b[39;00m l \u001b[38;5;129;01min\u001b[39;00m cm\u001b[38;5;241m.\u001b[39msplit(\u001b[38;5;124mb\u001b[39m\u001b[38;5;124m\"\u001b[39m\u001b[38;5;130;01m\\n\u001b[39;00m\u001b[38;5;124m\"\u001b[39m):\n\u001b[0;32m--> 196\u001b[0m     process_rg, process_char, multiline_rg \u001b[38;5;241m=\u001b[39m \u001b[43mprocess_cm_line\u001b[49m\u001b[43m(\u001b[49m\n\u001b[1;32m    197\u001b[0m \u001b[43m        \u001b[49m\u001b[43ml\u001b[49m\u001b[38;5;241;43m.\u001b[39;49m\u001b[43mstrip\u001b[49m\u001b[43m(\u001b[49m\u001b[38;5;124;43mb\u001b[39;49m\u001b[38;5;124;43m\"\u001b[39;49m\u001b[38;5;124;43m \u001b[39;49m\u001b[38;5;124;43m\"\u001b[39;49m\u001b[43m)\u001b[49m\u001b[43m,\u001b[49m\u001b[43m \u001b[49m\u001b[43mprocess_rg\u001b[49m\u001b[43m,\u001b[49m\u001b[43m \u001b[49m\u001b[43mprocess_char\u001b[49m\u001b[43m,\u001b[49m\u001b[43m \u001b[49m\u001b[43mmultiline_rg\u001b[49m\u001b[43m,\u001b[49m\u001b[43m \u001b[49m\u001b[43mmap_dict\u001b[49m\u001b[43m,\u001b[49m\u001b[43m \u001b[49m\u001b[43mint_entry\u001b[49m\n\u001b[1;32m    198\u001b[0m \u001b[43m    \u001b[49m\u001b[43m)\u001b[49m\n\u001b[1;32m    200\u001b[0m \u001b[38;5;28;01mfor\u001b[39;00m a, value \u001b[38;5;129;01min\u001b[39;00m map_dict\u001b[38;5;241m.\u001b[39mitems():\n\u001b[1;32m    201\u001b[0m     \u001b[38;5;28;01mif\u001b[39;00m value \u001b[38;5;241m==\u001b[39m \u001b[38;5;124m\"\u001b[39m\u001b[38;5;124m \u001b[39m\u001b[38;5;124m\"\u001b[39m:\n",
      "File \u001b[0;32m~/Documentos/pipeline_faturas/venv/lib/python3.9/site-packages/PyPDF2/_cmap.py:264\u001b[0m, in \u001b[0;36mprocess_cm_line\u001b[0;34m(l, process_rg, process_char, multiline_rg, map_dict, int_entry)\u001b[0m\n\u001b[1;32m    262\u001b[0m     process_char \u001b[38;5;241m=\u001b[39m \u001b[38;5;28;01mFalse\u001b[39;00m\n\u001b[1;32m    263\u001b[0m \u001b[38;5;28;01melif\u001b[39;00m process_rg:\n\u001b[0;32m--> 264\u001b[0m     multiline_rg \u001b[38;5;241m=\u001b[39m \u001b[43mparse_bfrange\u001b[49m\u001b[43m(\u001b[49m\u001b[43ml\u001b[49m\u001b[43m,\u001b[49m\u001b[43m \u001b[49m\u001b[43mmap_dict\u001b[49m\u001b[43m,\u001b[49m\u001b[43m \u001b[49m\u001b[43mint_entry\u001b[49m\u001b[43m,\u001b[49m\u001b[43m \u001b[49m\u001b[43mmultiline_rg\u001b[49m\u001b[43m)\u001b[49m\n\u001b[1;32m    265\u001b[0m \u001b[38;5;28;01melif\u001b[39;00m process_char:\n\u001b[1;32m    266\u001b[0m     parse_bfchar(l, map_dict, int_entry)\n",
      "File \u001b[0;32m~/Documentos/pipeline_faturas/venv/lib/python3.9/site-packages/PyPDF2/_cmap.py:278\u001b[0m, in \u001b[0;36mparse_bfrange\u001b[0;34m(l, map_dict, int_entry, multiline_rg)\u001b[0m\n\u001b[1;32m    276\u001b[0m lst \u001b[38;5;241m=\u001b[39m [x \u001b[38;5;28;01mfor\u001b[39;00m x \u001b[38;5;129;01min\u001b[39;00m l\u001b[38;5;241m.\u001b[39msplit(\u001b[38;5;124mb\u001b[39m\u001b[38;5;124m\"\u001b[39m\u001b[38;5;124m \u001b[39m\u001b[38;5;124m\"\u001b[39m) \u001b[38;5;28;01mif\u001b[39;00m x]\n\u001b[1;32m    277\u001b[0m closure_found \u001b[38;5;241m=\u001b[39m \u001b[38;5;28;01mFalse\u001b[39;00m\n\u001b[0;32m--> 278\u001b[0m nbi \u001b[38;5;241m=\u001b[39m \u001b[38;5;28mmax\u001b[39m(\u001b[38;5;28mlen\u001b[39m(lst[\u001b[38;5;241m0\u001b[39m]), \u001b[38;5;28mlen\u001b[39m(\u001b[43mlst\u001b[49m\u001b[43m[\u001b[49m\u001b[38;5;241;43m1\u001b[39;49m\u001b[43m]\u001b[49m))\n\u001b[1;32m    279\u001b[0m map_dict[\u001b[38;5;241m-\u001b[39m\u001b[38;5;241m1\u001b[39m] \u001b[38;5;241m=\u001b[39m ceil(nbi \u001b[38;5;241m/\u001b[39m \u001b[38;5;241m2\u001b[39m)\n\u001b[1;32m    280\u001b[0m fmt \u001b[38;5;241m=\u001b[39m \u001b[38;5;124mb\u001b[39m\u001b[38;5;124m\"\u001b[39m\u001b[38;5;132;01m%%\u001b[39;00m\u001b[38;5;124m0\u001b[39m\u001b[38;5;132;01m%d\u001b[39;00m\u001b[38;5;124mX\u001b[39m\u001b[38;5;124m\"\u001b[39m \u001b[38;5;241m%\u001b[39m (map_dict[\u001b[38;5;241m-\u001b[39m\u001b[38;5;241m1\u001b[39m] \u001b[38;5;241m*\u001b[39m \u001b[38;5;241m2\u001b[39m)\n",
      "\u001b[0;31mIndexError\u001b[0m: list index out of range"
     ]
    }
   ],
   "source": []
  }
 ],
 "metadata": {
  "kernelspec": {
   "display_name": "venv",
   "language": "python",
   "name": "python3"
  },
  "language_info": {
   "codemirror_mode": {
    "name": "ipython",
    "version": 3
   },
   "file_extension": ".py",
   "mimetype": "text/x-python",
   "name": "python",
   "nbconvert_exporter": "python",
   "pygments_lexer": "ipython3",
   "version": "3.9.21"
  }
 },
 "nbformat": 4,
 "nbformat_minor": 5
}
