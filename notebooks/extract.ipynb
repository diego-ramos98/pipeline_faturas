{
 "cells": [
  {
   "cell_type": "markdown",
   "id": "9fe78e00",
   "metadata": {},
   "source": [
    "***CONECTANDO AO EMAIL***"
   ]
  },
  {
   "cell_type": "code",
   "execution_count": 7,
   "id": "022a66fb",
   "metadata": {},
   "outputs": [],
   "source": [
    "from imap_tools import  MailBox, AND\n",
    "from datetime import date\n",
    "import os\n",
    "import  dotenv"
   ]
  },
  {
   "cell_type": "markdown",
   "id": "cb2f40f3",
   "metadata": {},
   "source": [
    "***INFORMAÇÕES DE LOGIN***"
   ]
  },
  {
   "cell_type": "code",
   "execution_count": null,
   "id": "345a3264",
   "metadata": {},
   "outputs": [
    {
     "data": {
      "text/plain": [
       "True"
      ]
     },
     "execution_count": 11,
     "metadata": {},
     "output_type": "execute_result"
    }
   ],
   "source": [
    "dotenv.load_dotenv() #PARA PEGAR AS VARIAVEIS DE ambiente "
   ]
  },
  {
   "cell_type": "markdown",
   "id": "463cd221",
   "metadata": {},
   "source": [
    "***CHAVES DE ACESSO***"
   ]
  },
  {
   "cell_type": "code",
   "execution_count": 21,
   "id": "d83fbd70",
   "metadata": {},
   "outputs": [],
   "source": [
    "chave = os.getenv('ACESSO')\n",
    "usuario = os.getenv('USUARIO')"
   ]
  },
  {
   "cell_type": "code",
   "execution_count": 23,
   "id": "17b4d035",
   "metadata": {},
   "outputs": [],
   "source": [
    "meu_email = MailBox(\"imap.gmail.com\").login(usuario,chave)"
   ]
  },
  {
   "cell_type": "markdown",
   "id": "0af5f5bf",
   "metadata": {},
   "source": [
    "***PEGANDO INFORMAÇÕES DO EMAIL***\n",
    "\n",
    "**PEGANDO INFORMAÇOES DO EMAIL DE UM REMETENTE "
   ]
  },
  {
   "cell_type": "markdown",
   "id": "9e113d1f",
   "metadata": {},
   "source": [
    "***FORMATANDO AS DATAS***"
   ]
  },
  {
   "cell_type": "code",
   "execution_count": null,
   "id": "b880458b",
   "metadata": {},
   "outputs": [
    {
     "name": "stdout",
     "output_type": "stream",
     "text": [
      "2025 5\n"
     ]
    }
   ],
   "source": [
    "ano_vigente = date.today().year\n",
    "mes_vigente = date.today().month"
   ]
  },
  {
   "cell_type": "code",
   "execution_count": 58,
   "id": "eeb7a55d",
   "metadata": {},
   "outputs": [],
   "source": [
    "data = date(2025,4,1)\n"
   ]
  },
  {
   "cell_type": "code",
   "execution_count": 78,
   "id": "e8e242ca",
   "metadata": {},
   "outputs": [],
   "source": [
    "lista_emails = meu_email.fetch(AND(from_=\"todomundo@nubank.com.br\",date_gte=data,body=\"Sua fatura foi fechada\"),charset=\"UTF-8\")"
   ]
  },
  {
   "cell_type": "code",
   "execution_count": 75,
   "id": "6c1b5684",
   "metadata": {},
   "outputs": [
    {
     "name": "stdout",
     "output_type": "stream",
     "text": [
      "1\n"
     ]
    }
   ],
   "source": [
    "quantidade_emails_encontrados =  len(list(lista_emails))\n",
    "print(quantidade_emails_encontrados)"
   ]
  },
  {
   "cell_type": "code",
   "execution_count": 79,
   "id": "dfd4b956",
   "metadata": {},
   "outputs": [
    {
     "name": "stdout",
     "output_type": "stream",
     "text": [
      "A fatura do seu cartão Nubank está fechada\n",
      "\n"
     ]
    }
   ],
   "source": [
    "for email in lista_emails:\n",
    "    print(email.subject)\n",
    "    print(email.text)\n",
    "    "
   ]
  },
  {
   "cell_type": "markdown",
   "id": "1f4338d6",
   "metadata": {},
   "source": [
    "***LENDO O ANEXO DO EMAIL***"
   ]
  },
  {
   "cell_type": "code",
   "execution_count": 80,
   "id": "39609dd1",
   "metadata": {},
   "outputs": [],
   "source": [
    "path = \"../data_raw/\"\n",
    "name_file = \"fatura.pdf\""
   ]
  },
  {
   "cell_type": "code",
   "execution_count": 81,
   "id": "66f90a7a",
   "metadata": {},
   "outputs": [],
   "source": [
    "path_full = os.path.join(path,name_file)"
   ]
  },
  {
   "cell_type": "code",
   "execution_count": 83,
   "id": "a8ff5af4",
   "metadata": {},
   "outputs": [],
   "source": [
    "lista_emails = meu_email.fetch(AND(from_=\"todomundo@nubank.com.br\",date_gte=data,body=\"Sua fatura foi fechada\"),charset=\"UTF-8\")\n",
    "for email in lista_emails:\n",
    "    if len(email.attachments) > 0:\n",
    "        for anexo in email.attachments:\n",
    "            if \"Nubank_2025-05-01\" in anexo.filename:\n",
    "                info_anexo = anexo.payload\n",
    "                with open(path_full,\"wb\") as fatura_pdf:\n",
    "                    fatura_pdf.write(info_anexo)\n"
   ]
  },
  {
   "cell_type": "markdown",
   "id": "1572b77f",
   "metadata": {},
   "source": []
  }
 ],
 "metadata": {
  "kernelspec": {
   "display_name": "venv",
   "language": "python",
   "name": "python3"
  },
  "language_info": {
   "codemirror_mode": {
    "name": "ipython",
    "version": 3
   },
   "file_extension": ".py",
   "mimetype": "text/x-python",
   "name": "python",
   "nbconvert_exporter": "python",
   "pygments_lexer": "ipython3",
   "version": "3.9.21"
  }
 },
 "nbformat": 4,
 "nbformat_minor": 5
}
